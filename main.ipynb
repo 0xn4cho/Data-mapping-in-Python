{
 "cells": [
  {
   "cell_type": "code",
   "execution_count": 9,
   "metadata": {},
   "outputs": [
    {
     "name": "stdout",
     "output_type": "stream",
     "text": [
      "Datos filtrados y guardados en datos_filtrados.json\n"
     ]
    }
   ],
   "source": [
    "import pandas as pd \n",
    "import json \n",
    "\n",
    "\n",
    "archivo_csv = '/file/path/wine-ratings-small.csv'\n",
    "df = pd.read_csv(archivo_csv)\n",
    "\n",
    "\n",
    "filtro_vino = df[df['variety'] == 'White Wine']\n",
    "\n",
    "\n",
    "filtro_puntuacion = df[df['region'] == 'Austria']\n",
    "\n",
    "\n",
    "datos_filtrados = filtro_vino[filtro_vino['region'] == 'Austria']\n",
    "\n",
    "\n",
    "datos_json = datos_filtrados.to_json(orient='records', indent=4)\n",
    "\n",
    "\n",
    "with open('/file/path/datos_filtrados.json', 'w') as archivo_json: \n",
    "    archivo_json.write(datos_json)\n",
    "    \n",
    "print(\"Data filtered and saved in the file datos_filtrados.json\")\n"
   ]
  },
  {
   "cell_type": "code",
   "execution_count": null,
   "metadata": {},
   "outputs": [],
   "source": []
  }
 ],
 "metadata": {
  "kernelspec": {
   "display_name": "Python 3",
   "language": "python",
   "name": "python3"
  },
  "language_info": {
   "codemirror_mode": {
    "name": "ipython",
    "version": 3
   },
   "file_extension": ".py",
   "mimetype": "text/x-python",
   "name": "python",
   "nbconvert_exporter": "python",
   "pygments_lexer": "ipython3",
   "version": "3.11.2"
  }
 },
 "nbformat": 4,
 "nbformat_minor": 2
}
